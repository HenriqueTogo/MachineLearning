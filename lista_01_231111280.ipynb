{
 "cells": [
  {
   "attachments": {},
   "cell_type": "markdown",
   "metadata": {},
   "source": [
    "# Nome: Henrique Augusto Gomes Togo\n",
    "# Matrícula: 231111280"
   ]
  },
  {
   "attachments": {},
   "cell_type": "markdown",
   "metadata": {},
   "source": [
    "<h1>Questão 4</h1>"
   ]
  },
  {
   "attachments": {},
   "cell_type": "markdown",
   "metadata": {},
   "source": [
    "Para calcular a correlação entre duas features, foi utilizado um <a href=https://www.kaggle.com/datasets/mustafaali96/weight-height> dataset</a> do Kaggle, que reúne informações sobre a altura (in) e a massa (lbs) de indivíduos, tanto do sexo masculino quanto feminino. Os valores foram transformados em cm e kg.\n",
    "\n",
    "Será utilizada a biblioteca auxiliar numpy para a manipulação de dados."
   ]
  },
  {
   "attachments": {},
   "cell_type": "markdown",
   "metadata": {},
   "source": [
    "# Importação de Dados"
   ]
  },
  {
   "attachments": {},
   "cell_type": "markdown",
   "metadata": {},
   "source": [
    "Nessa etapa, os dados foram importados e separados em dois arrays:\n",
    " \n",
    "Um referente à massa e o outro à altura."
   ]
  },
  {
   "cell_type": "code",
   "execution_count": 1,
   "metadata": {},
   "outputs": [],
   "source": [
    "import numpy as np"
   ]
  },
  {
   "cell_type": "code",
   "execution_count": 2,
   "metadata": {},
   "outputs": [],
   "source": [
    "data = np.loadtxt('weight-height.csv', delimiter=',', dtype=str)\n",
    "\n",
    "gender = data[1:,0]\n",
    "height = data[1:,1].astype(float)\n",
    "weight = data[1:,2].astype(float)\n",
    "\n",
    "height = height*2.54\n",
    "weight = weight * 0.453592\n",
    "    "
   ]
  },
  {
   "attachments": {},
   "cell_type": "markdown",
   "metadata": {},
   "source": [
    "# Média Amostral"
   ]
  },
  {
   "attachments": {},
   "cell_type": "markdown",
   "metadata": {},
   "source": [
    "Define-se uma função avg que calcula a média amostral."
   ]
  },
  {
   "cell_type": "code",
   "execution_count": 3,
   "metadata": {},
   "outputs": [],
   "source": [
    "def avg(vec):\n",
    "    len_vec = len(vec)\n",
    "    sum = 0\n",
    "    for i in range(len_vec):\n",
    "        sum += vec[i]\n",
    "    return sum/len_vec"
   ]
  },
  {
   "attachments": {},
   "cell_type": "markdown",
   "metadata": {},
   "source": [
    "Média referente aos dois arrays:"
   ]
  },
  {
   "cell_type": "code",
   "execution_count": 4,
   "metadata": {},
   "outputs": [
    {
     "name": "stdout",
     "output_type": "stream",
     "text": [
      "Média amostral para a altura: 168.57 cm\n",
      "Média amostral para a massa: 73.23 kg\n"
     ]
    }
   ],
   "source": [
    "avg_height = avg(height)\n",
    "avg_weight = avg(weight)\n",
    "\n",
    "print(f'Média amostral para a altura: {avg_height:.2f} cm')\n",
    "print(f'Média amostral para a massa: {avg_weight:.2f} kg')"
   ]
  },
  {
   "attachments": {},
   "cell_type": "markdown",
   "metadata": {},
   "source": [
    "# Variância Amostral"
   ]
  },
  {
   "attachments": {},
   "cell_type": "markdown",
   "metadata": {},
   "source": [
    "Define-se uma função var que calcula a variância amostral."
   ]
  },
  {
   "cell_type": "code",
   "execution_count": 5,
   "metadata": {},
   "outputs": [],
   "source": [
    "def var(vec, med):\n",
    "    dev = 0\n",
    "    len_vec = len(vec)\n",
    "    for i in range(len_vec):\n",
    "        dev += (vec[i] - med)**2\n",
    "    return dev/len_vec"
   ]
  },
  {
   "attachments": {},
   "cell_type": "markdown",
   "metadata": {},
   "source": [
    "Calculando-se a variância amostral para os dois arrays:"
   ]
  },
  {
   "cell_type": "code",
   "execution_count": 6,
   "metadata": {},
   "outputs": [
    {
     "name": "stdout",
     "output_type": "stream",
     "text": [
      "Variância amostral para a altura: 95.50 cm²\n",
      "Variância amostral para a massa: 212.09 kg²\n"
     ]
    }
   ],
   "source": [
    "var_height = var(height, avg_height)\n",
    "var_weight = var(weight, avg_weight)\n",
    "\n",
    "print(f'Variância amostral para a altura: {var_height:.2f} cm²')\n",
    "print(f'Variância amostral para a massa: {var_weight:.2f} kg²')"
   ]
  },
  {
   "attachments": {},
   "cell_type": "markdown",
   "metadata": {},
   "source": [
    "# Desvio Padrão Amostral"
   ]
  },
  {
   "attachments": {},
   "cell_type": "markdown",
   "metadata": {},
   "source": [
    "Define-se uma função std que calcula o desvio padrão amostral."
   ]
  },
  {
   "cell_type": "code",
   "execution_count": 7,
   "metadata": {},
   "outputs": [],
   "source": [
    "def std(var):\n",
    "    return (var)**(1/2)"
   ]
  },
  {
   "attachments": {},
   "cell_type": "markdown",
   "metadata": {},
   "source": [
    "Calculando-se o desvio padrão amostral para os dois arrays:"
   ]
  },
  {
   "cell_type": "code",
   "execution_count": 8,
   "metadata": {},
   "outputs": [
    {
     "name": "stdout",
     "output_type": "stream",
     "text": [
      "Desvio padrão para a altura: 9.77 cm\n",
      "Desvio padrão para a massa: 14.56 kg\n"
     ]
    }
   ],
   "source": [
    "std_height = std(var_height)\n",
    "std_weight = std(var_weight)\n",
    "\n",
    "print(f'Desvio padrão para a altura: {std_height:.2f} cm')\n",
    "print(f'Desvio padrão para a massa: {std_weight:.2f} kg')"
   ]
  },
  {
   "attachments": {},
   "cell_type": "markdown",
   "metadata": {},
   "source": [
    "# Covariância Amostral"
   ]
  },
  {
   "attachments": {},
   "cell_type": "markdown",
   "metadata": {},
   "source": [
    "Define-se uma função cov que calcula a covariância amostral."
   ]
  },
  {
   "cell_type": "code",
   "execution_count": 9,
   "metadata": {},
   "outputs": [],
   "source": [
    "def cov(vec_i, vec_j):\n",
    "    \n",
    "    len_vec_i = len(vec_i)\n",
    "\n",
    "    avg_vec_i = avg(vec_i)\n",
    "    avg_vec_j = avg(vec_j)\n",
    "    \n",
    "    covar = 0\n",
    "    \n",
    "    for i in range(len_vec_i):\n",
    "        covar += (vec_i[i] - avg_vec_i) * (vec_j[i] - avg_vec_j)\n",
    "\n",
    "    return covar/len_vec_i"
   ]
  },
  {
   "attachments": {},
   "cell_type": "markdown",
   "metadata": {},
   "source": [
    "Calculando-se a covariância amostral:"
   ]
  },
  {
   "cell_type": "code",
   "execution_count": 10,
   "metadata": {},
   "outputs": [
    {
     "name": "stdout",
     "output_type": "stream",
     "text": [
      "Covariância amostral entre a altura e massa: 131.61\n"
     ]
    }
   ],
   "source": [
    "covar = cov(height, weight)\n",
    "\n",
    "print(f'Covariância amostral entre a altura e massa: {covar:.2f}')"
   ]
  },
  {
   "attachments": {},
   "cell_type": "markdown",
   "metadata": {},
   "source": [
    "# Correlação Amostral"
   ]
  },
  {
   "attachments": {},
   "cell_type": "markdown",
   "metadata": {},
   "source": [
    "Define-se uma função cor que calcula a correlação amostral."
   ]
  },
  {
   "cell_type": "code",
   "execution_count": 11,
   "metadata": {},
   "outputs": [],
   "source": [
    "def cor(covar, std_i, std_j):\n",
    "\n",
    "    return covar/((std_i)*(std_j))"
   ]
  },
  {
   "attachments": {},
   "cell_type": "markdown",
   "metadata": {},
   "source": [
    "Calculando-se a correlação amostral:"
   ]
  },
  {
   "cell_type": "code",
   "execution_count": 12,
   "metadata": {},
   "outputs": [
    {
     "name": "stdout",
     "output_type": "stream",
     "text": [
      "Correlação amostral para a altura e massa: 0.92\n"
     ]
    }
   ],
   "source": [
    "correlation = cor(covar, std_height, std_weight)\n",
    "\n",
    "print(f'Correlação amostral para a altura e massa: {correlation:.2f}')"
   ]
  }
 ],
 "metadata": {
  "kernelspec": {
   "display_name": "base",
   "language": "python",
   "name": "python3"
  },
  "language_info": {
   "codemirror_mode": {
    "name": "ipython",
    "version": 3
   },
   "file_extension": ".py",
   "mimetype": "text/x-python",
   "name": "python",
   "nbconvert_exporter": "python",
   "pygments_lexer": "ipython3",
   "version": "3.9.13"
  },
  "orig_nbformat": 4
 },
 "nbformat": 4,
 "nbformat_minor": 2
}
