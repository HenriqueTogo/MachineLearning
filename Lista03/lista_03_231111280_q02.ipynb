{
 "cells": [
  {
   "attachments": {},
   "cell_type": "markdown",
   "metadata": {},
   "source": [
    "# Nome: Henrique Augusto Gomes Togo\n",
    "# Matrícula: 231111280\n",
    "\n",
    "## Questão 2"
   ]
  },
  {
   "cell_type": "code",
   "execution_count": 1,
   "metadata": {},
   "outputs": [],
   "source": [
    "import numpy as np\n",
    "import matplotlib.pyplot as plt"
   ]
  },
  {
   "cell_type": "code",
   "execution_count": 2,
   "metadata": {},
   "outputs": [
    {
     "name": "stdout",
     "output_type": "stream",
     "text": [
      "Média x1 = 2.52\n",
      "Desvio Padrão x1 = 1.41\n",
      "========================================\n",
      "Média x2 = -2.81\n",
      "Desvio Padrão x2 = 5.38\n",
      "========================================\n",
      "Média x3 = 0.30\n",
      "Desvio Padrão x3 = 9.36\n",
      "========================================\n"
     ]
    }
   ],
   "source": [
    "arr_pca = np.loadtxt(\"data_pca_question.csv\", delimiter=\",\", dtype=float)\n",
    "mean_vec_pca = np.mean(arr_pca, axis=0)\n",
    "std_vec_pca = np.sqrt(np.var(arr_pca, axis=0))\n",
    "for i in range(len(mean_vec_pca)):\n",
    "    print(f'Média x{i + 1} = {mean_vec_pca[i]:.2f}')\n",
    "    print(f'Desvio Padrão x{i + 1} = {std_vec_pca[i]:.2f}')\n",
    "    print(40*'=')"
   ]
  },
  {
   "cell_type": "code",
   "execution_count": 3,
   "metadata": {},
   "outputs": [
    {
     "name": "stdout",
     "output_type": "stream",
     "text": [
      "Média z1 = -0.00\n",
      "Desvio Padrão z1 = 1.00\n",
      "========================================\n",
      "Média z2 = 0.00\n",
      "Desvio Padrão z2 = 1.00\n",
      "========================================\n",
      "Média z3 = -0.00\n",
      "Desvio Padrão z3 = 1.00\n",
      "========================================\n"
     ]
    }
   ],
   "source": [
    "pca_normal = (arr_pca - mean_vec_pca)/std_vec_pca\n",
    "\n",
    "mean_pca_normal = np.mean(pca_normal, axis=0)\n",
    "std_pca_normal = np.sqrt(np.var(pca_normal, axis=0))\n",
    "for i in range(len(mean_pca_normal)):\n",
    "    print(f'Média z{i + 1} = {mean_pca_normal[i]:.2f}')\n",
    "    print(f'Desvio Padrão z{i + 1} = {std_pca_normal[i]:.2f}')\n",
    "    print(40*'=')"
   ]
  },
  {
   "cell_type": "code",
   "execution_count": 4,
   "metadata": {},
   "outputs": [
    {
     "name": "stdout",
     "output_type": "stream",
     "text": [
      "S = [[ 1.001001   -0.53439232 -0.60672834]\n",
      " [-0.53439232  1.001001    0.94108144]\n",
      " [-0.60672834  0.94108144  1.001001  ]]\n"
     ]
    }
   ],
   "source": [
    "cov_vec_pca = np.cov(np.transpose(pca_normal))\n",
    "print(f'S = {cov_vec_pca}')"
   ]
  },
  {
   "cell_type": "code",
   "execution_count": 5,
   "metadata": {},
   "outputs": [
    {
     "name": "stdout",
     "output_type": "stream",
     "text": [
      "Autovalor 1: 2.4058885474588987\n",
      "Autovetor 1: [ 0.49831409 -0.60532847 -0.62069357]\n",
      "Autovalor 2: 0.5415530005252888\n",
      "Autovetor 2: [-0.86283557 -0.41630393 -0.28671556]\n",
      "Autovalor 3: 0.055561455018817284\n",
      "Autovetor 3: [ 0.08484009 -0.6784309   0.72974905]\n"
     ]
    }
   ],
   "source": [
    "eigenvalues_pca, eigenvectors_pca = np.linalg.eig(cov_vec_pca) \n",
    "eigen_pca = [] # Tuples (eigenvalue, eigenvector)\n",
    "for i in range(len(eigenvalues_pca)):\n",
    "    eigen_pca.append((eigenvalues_pca[i], eigenvectors_pca[:,i]))\n",
    "eigen_pca = sorted(eigen_pca, key=lambda element:(element[0]), reverse=True)\n",
    "\n",
    "for i in range(len(eigenvalues_pca)):\n",
    "    print(f'Autovalor {i + 1}: {eigen_pca[i][0]}\\nAutovetor {i + 1}: {eigen_pca[i][1]}')"
   ]
  },
  {
   "cell_type": "code",
   "execution_count": 10,
   "metadata": {},
   "outputs": [
    {
     "name": "stdout",
     "output_type": "stream",
     "text": [
      "Porcentagem do Autovalor 1: 80.12\n",
      "Porcentagem do Autovalor 2: 18.03\n",
      "Porcentagem do Autovalor 3: 1.85\n"
     ]
    }
   ],
   "source": [
    "eigenvalues_total = np.sum(eigenvalues_pca)\n",
    "for i in range(len(eigen_pca)):\n",
    "    print(f'Porcentagem do Autovalor {i + 1}: {(100 * eigen_pca[i][0] / eigenvalues_total):.2f}%')"
   ]
  },
  {
   "cell_type": "code",
   "execution_count": 7,
   "metadata": {},
   "outputs": [
    {
     "name": "stdout",
     "output_type": "stream",
     "text": [
      "[[ 0.49831409 -0.86283557]\n",
      " [-0.60532847 -0.41630393]\n",
      " [-0.62069357 -0.28671556]]\n"
     ]
    }
   ],
   "source": [
    "k_order_pca = 2\n",
    "w_list = []\n",
    "for i in range(k_order_pca):\n",
    "    w_list.append(eigen_pca[i][1])\n",
    "\n",
    "w = np.transpose(np.array(w_list))\n",
    "print(w)"
   ]
  },
  {
   "cell_type": "code",
   "execution_count": 8,
   "metadata": {},
   "outputs": [
    {
     "data": {
      "text/plain": [
       "array([2.40348266, 0.54101145])"
      ]
     },
     "execution_count": 8,
     "metadata": {},
     "output_type": "execute_result"
    }
   ],
   "source": [
    "z = np.zeros((k_order_pca, len(pca_normal)))\n",
    "for i in range(len(pca_normal)):\n",
    "    z[:, i] = np.transpose(w) @ (pca_normal[i] - mean_vec_pca)\n",
    "z = np.transpose(z)\n",
    "\n",
    "np.var(z, axis=0)"
   ]
  }
 ],
 "metadata": {
  "kernelspec": {
   "display_name": "base",
   "language": "python",
   "name": "python3"
  },
  "language_info": {
   "codemirror_mode": {
    "name": "ipython",
    "version": 3
   },
   "file_extension": ".py",
   "mimetype": "text/x-python",
   "name": "python",
   "nbconvert_exporter": "python",
   "pygments_lexer": "ipython3",
   "version": "3.9.13"
  },
  "orig_nbformat": 4
 },
 "nbformat": 4,
 "nbformat_minor": 2
}
