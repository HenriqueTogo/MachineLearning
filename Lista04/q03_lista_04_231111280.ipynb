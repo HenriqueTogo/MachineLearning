{
 "cells": [
  {
   "attachments": {},
   "cell_type": "markdown",
   "metadata": {},
   "source": [
    "# Nome: Henrique Augusto Gomes Togo\n",
    "# Matrícula: 231111280\n",
    "\n",
    "## Questão 3"
   ]
  },
  {
   "cell_type": "code",
   "execution_count": 76,
   "metadata": {},
   "outputs": [],
   "source": [
    "import numpy as np\n",
    "import matplotlib.pyplot as plt\n",
    "from sklearn.tree import DecisionTreeClassifier\n",
    "from sklearn.tree import plot_tree"
   ]
  },
  {
   "attachments": {},
   "cell_type": "markdown",
   "metadata": {},
   "source": [
    "Acima são importadas algumas bilbiotecas para auxiliarem na resolução do problema. "
   ]
  },
  {
   "attachments": {},
   "cell_type": "markdown",
   "metadata": {},
   "source": [
    "A seguir, é montado um dataset com as informações de [Banknote Authentication](q02_lista_04_231111280.ipynb). O dataset é composto pelas medidas da sepala (comprimento x largura), em centímetros, e petala (comrimento x largura), em centímetros, de três espécies distintas: Iris Setosa, Iris Versicolour e Iris Virginica."
   ]
  },
  {
   "cell_type": "code",
   "execution_count": 77,
   "metadata": {},
   "outputs": [],
   "source": [
    "dataset_raw = np.loadtxt(\"iris.data\", delimiter=\",\", dtype=str)\n",
    "labels_dic = {'Iris-setosa': 0, 'Iris-versicolor': 1, 'Iris-virginica': 2}\n",
    "dataset_len = len(dataset_raw)\n",
    "\n",
    "for i in range(dataset_len):\n",
    "    dataset_raw[i, 4] = labels_dic[dataset_raw[i, 4]]\n",
    "\n",
    "train_len = round(0.7 * dataset_len)\n",
    "validation_len = round(0.15 * dataset_len)\n",
    "dataset_permuted = np.random.permutation(dataset_raw)\n",
    "\n",
    "X = dataset_permuted[:, 0:4].astype('float64')\n",
    "y = dataset_permuted[:,4].astype('int64')"
   ]
  },
  {
   "attachments": {},
   "cell_type": "markdown",
   "metadata": {},
   "source": [
    "Para realizar o treinamento de uma Feedforward Neural Network, o dataset original é separado em três, seguindo as respectivas proporções:\n",
    "\n",
    "- Dataset de treinamento (70%);\n",
    "- Dataset de validação (15%);\n",
    "- Dataset de teste (15%).\n",
    "\n",
    "Antes da separação, é realizado um shuffle do dataset original."
   ]
  },
  {
   "cell_type": "code",
   "execution_count": 78,
   "metadata": {},
   "outputs": [],
   "source": [
    "X_train = np.array(X[0 : train_len])\n",
    "y_train = np.array(y[0 : train_len])\n",
    "\n",
    "X_validation = np.array(X[train_len : train_len + validation_len])\n",
    "y_validation = np.array(y[train_len : train_len + validation_len])\n",
    "\n",
    "X_test = np.array(X[train_len + validation_len: dataset_len])\n",
    "y_test = np.array(y[train_len + validation_len: dataset_len])"
   ]
  }
 ],
 "metadata": {
  "kernelspec": {
   "display_name": "base",
   "language": "python",
   "name": "python3"
  },
  "language_info": {
   "codemirror_mode": {
    "name": "ipython",
    "version": 3
   },
   "file_extension": ".py",
   "mimetype": "text/x-python",
   "name": "python",
   "nbconvert_exporter": "python",
   "pygments_lexer": "ipython3",
   "version": "3.9.13"
  },
  "orig_nbformat": 4
 },
 "nbformat": 4,
 "nbformat_minor": 2
}
